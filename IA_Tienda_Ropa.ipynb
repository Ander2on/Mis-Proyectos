{
  "nbformat": 4,
  "nbformat_minor": 0,
  "metadata": {
    "colab": {
      "name": "IA_Tienda_Ropa.ipynb",
      "provenance": [],
      "authorship_tag": "ABX9TyMqR4u/py2T5d2PBTAEA2sj",
      "include_colab_link": true
    },
    "kernelspec": {
      "name": "python3",
      "display_name": "Python 3"
    },
    "language_info": {
      "name": "python"
    },
    "widgets": {
      "application/vnd.jupyter.widget-state+json": {
        "3da3152112564929a5101e70556355d7": {
          "model_module": "@jupyter-widgets/controls",
          "model_name": "HBoxModel",
          "model_module_version": "1.5.0",
          "state": {
            "_view_name": "HBoxView",
            "_dom_classes": [],
            "_model_name": "HBoxModel",
            "_view_module": "@jupyter-widgets/controls",
            "_model_module_version": "1.5.0",
            "_view_count": null,
            "_view_module_version": "1.5.0",
            "box_style": "",
            "layout": "IPY_MODEL_e630bdc980064682817f51e1a497a8da",
            "_model_module": "@jupyter-widgets/controls",
            "children": [
              "IPY_MODEL_7b26ae23d993425897fae2f23c7c1bba",
              "IPY_MODEL_44a2570a1d794b119db1a0d373338eaf",
              "IPY_MODEL_d0d0118e65194bb190100369ace3707b"
            ]
          }
        },
        "e630bdc980064682817f51e1a497a8da": {
          "model_module": "@jupyter-widgets/base",
          "model_name": "LayoutModel",
          "model_module_version": "1.2.0",
          "state": {
            "_view_name": "LayoutView",
            "grid_template_rows": null,
            "right": null,
            "justify_content": null,
            "_view_module": "@jupyter-widgets/base",
            "overflow": null,
            "_model_module_version": "1.2.0",
            "_view_count": null,
            "flex_flow": null,
            "width": null,
            "min_width": null,
            "border": null,
            "align_items": null,
            "bottom": null,
            "_model_module": "@jupyter-widgets/base",
            "top": null,
            "grid_column": null,
            "overflow_y": null,
            "overflow_x": null,
            "grid_auto_flow": null,
            "grid_area": null,
            "grid_template_columns": null,
            "flex": null,
            "_model_name": "LayoutModel",
            "justify_items": null,
            "grid_row": null,
            "max_height": null,
            "align_content": null,
            "visibility": null,
            "align_self": null,
            "height": null,
            "min_height": null,
            "padding": null,
            "grid_auto_rows": null,
            "grid_gap": null,
            "max_width": null,
            "order": null,
            "_view_module_version": "1.2.0",
            "grid_template_areas": null,
            "object_position": null,
            "object_fit": null,
            "grid_auto_columns": null,
            "margin": null,
            "display": null,
            "left": null
          }
        },
        "7b26ae23d993425897fae2f23c7c1bba": {
          "model_module": "@jupyter-widgets/controls",
          "model_name": "HTMLModel",
          "model_module_version": "1.5.0",
          "state": {
            "_view_name": "HTMLView",
            "style": "IPY_MODEL_3f6315a2aaa74add83f7e5682f0de73d",
            "_dom_classes": [],
            "description": "",
            "_model_name": "HTMLModel",
            "placeholder": "​",
            "_view_module": "@jupyter-widgets/controls",
            "_model_module_version": "1.5.0",
            "value": "Dl Completed...: 100%",
            "_view_count": null,
            "_view_module_version": "1.5.0",
            "description_tooltip": null,
            "_model_module": "@jupyter-widgets/controls",
            "layout": "IPY_MODEL_f841ea121681498a82e5be1ad72391aa"
          }
        },
        "44a2570a1d794b119db1a0d373338eaf": {
          "model_module": "@jupyter-widgets/controls",
          "model_name": "FloatProgressModel",
          "model_module_version": "1.5.0",
          "state": {
            "_view_name": "ProgressView",
            "style": "IPY_MODEL_8a5b9b3ccb0846d8a6443cdeecfc5742",
            "_dom_classes": [],
            "description": "",
            "_model_name": "FloatProgressModel",
            "bar_style": "success",
            "max": 1,
            "_view_module": "@jupyter-widgets/controls",
            "_model_module_version": "1.5.0",
            "value": 1,
            "_view_count": null,
            "_view_module_version": "1.5.0",
            "orientation": "horizontal",
            "min": 0,
            "description_tooltip": null,
            "_model_module": "@jupyter-widgets/controls",
            "layout": "IPY_MODEL_135fa59442a944fd99ad9fed137cbd4d"
          }
        },
        "d0d0118e65194bb190100369ace3707b": {
          "model_module": "@jupyter-widgets/controls",
          "model_name": "HTMLModel",
          "model_module_version": "1.5.0",
          "state": {
            "_view_name": "HTMLView",
            "style": "IPY_MODEL_d9eb6c9e41774ff39ea1de08b0dbcf22",
            "_dom_classes": [],
            "description": "",
            "_model_name": "HTMLModel",
            "placeholder": "​",
            "_view_module": "@jupyter-widgets/controls",
            "_model_module_version": "1.5.0",
            "value": " 4/4 [00:01&lt;00:00,  4.22 url/s]",
            "_view_count": null,
            "_view_module_version": "1.5.0",
            "description_tooltip": null,
            "_model_module": "@jupyter-widgets/controls",
            "layout": "IPY_MODEL_1b9ede33a8bd489bb57d2089d666ce03"
          }
        },
        "3f6315a2aaa74add83f7e5682f0de73d": {
          "model_module": "@jupyter-widgets/controls",
          "model_name": "DescriptionStyleModel",
          "model_module_version": "1.5.0",
          "state": {
            "_view_name": "StyleView",
            "_model_name": "DescriptionStyleModel",
            "description_width": "",
            "_view_module": "@jupyter-widgets/base",
            "_model_module_version": "1.5.0",
            "_view_count": null,
            "_view_module_version": "1.2.0",
            "_model_module": "@jupyter-widgets/controls"
          }
        },
        "f841ea121681498a82e5be1ad72391aa": {
          "model_module": "@jupyter-widgets/base",
          "model_name": "LayoutModel",
          "model_module_version": "1.2.0",
          "state": {
            "_view_name": "LayoutView",
            "grid_template_rows": null,
            "right": null,
            "justify_content": null,
            "_view_module": "@jupyter-widgets/base",
            "overflow": null,
            "_model_module_version": "1.2.0",
            "_view_count": null,
            "flex_flow": null,
            "width": null,
            "min_width": null,
            "border": null,
            "align_items": null,
            "bottom": null,
            "_model_module": "@jupyter-widgets/base",
            "top": null,
            "grid_column": null,
            "overflow_y": null,
            "overflow_x": null,
            "grid_auto_flow": null,
            "grid_area": null,
            "grid_template_columns": null,
            "flex": null,
            "_model_name": "LayoutModel",
            "justify_items": null,
            "grid_row": null,
            "max_height": null,
            "align_content": null,
            "visibility": null,
            "align_self": null,
            "height": null,
            "min_height": null,
            "padding": null,
            "grid_auto_rows": null,
            "grid_gap": null,
            "max_width": null,
            "order": null,
            "_view_module_version": "1.2.0",
            "grid_template_areas": null,
            "object_position": null,
            "object_fit": null,
            "grid_auto_columns": null,
            "margin": null,
            "display": null,
            "left": null
          }
        },
        "8a5b9b3ccb0846d8a6443cdeecfc5742": {
          "model_module": "@jupyter-widgets/controls",
          "model_name": "ProgressStyleModel",
          "model_module_version": "1.5.0",
          "state": {
            "_view_name": "StyleView",
            "_model_name": "ProgressStyleModel",
            "description_width": "",
            "_view_module": "@jupyter-widgets/base",
            "_model_module_version": "1.5.0",
            "_view_count": null,
            "_view_module_version": "1.2.0",
            "bar_color": null,
            "_model_module": "@jupyter-widgets/controls"
          }
        },
        "135fa59442a944fd99ad9fed137cbd4d": {
          "model_module": "@jupyter-widgets/base",
          "model_name": "LayoutModel",
          "model_module_version": "1.2.0",
          "state": {
            "_view_name": "LayoutView",
            "grid_template_rows": null,
            "right": null,
            "justify_content": null,
            "_view_module": "@jupyter-widgets/base",
            "overflow": null,
            "_model_module_version": "1.2.0",
            "_view_count": null,
            "flex_flow": null,
            "width": "20px",
            "min_width": null,
            "border": null,
            "align_items": null,
            "bottom": null,
            "_model_module": "@jupyter-widgets/base",
            "top": null,
            "grid_column": null,
            "overflow_y": null,
            "overflow_x": null,
            "grid_auto_flow": null,
            "grid_area": null,
            "grid_template_columns": null,
            "flex": null,
            "_model_name": "LayoutModel",
            "justify_items": null,
            "grid_row": null,
            "max_height": null,
            "align_content": null,
            "visibility": null,
            "align_self": null,
            "height": null,
            "min_height": null,
            "padding": null,
            "grid_auto_rows": null,
            "grid_gap": null,
            "max_width": null,
            "order": null,
            "_view_module_version": "1.2.0",
            "grid_template_areas": null,
            "object_position": null,
            "object_fit": null,
            "grid_auto_columns": null,
            "margin": null,
            "display": null,
            "left": null
          }
        },
        "d9eb6c9e41774ff39ea1de08b0dbcf22": {
          "model_module": "@jupyter-widgets/controls",
          "model_name": "DescriptionStyleModel",
          "model_module_version": "1.5.0",
          "state": {
            "_view_name": "StyleView",
            "_model_name": "DescriptionStyleModel",
            "description_width": "",
            "_view_module": "@jupyter-widgets/base",
            "_model_module_version": "1.5.0",
            "_view_count": null,
            "_view_module_version": "1.2.0",
            "_model_module": "@jupyter-widgets/controls"
          }
        },
        "1b9ede33a8bd489bb57d2089d666ce03": {
          "model_module": "@jupyter-widgets/base",
          "model_name": "LayoutModel",
          "model_module_version": "1.2.0",
          "state": {
            "_view_name": "LayoutView",
            "grid_template_rows": null,
            "right": null,
            "justify_content": null,
            "_view_module": "@jupyter-widgets/base",
            "overflow": null,
            "_model_module_version": "1.2.0",
            "_view_count": null,
            "flex_flow": null,
            "width": null,
            "min_width": null,
            "border": null,
            "align_items": null,
            "bottom": null,
            "_model_module": "@jupyter-widgets/base",
            "top": null,
            "grid_column": null,
            "overflow_y": null,
            "overflow_x": null,
            "grid_auto_flow": null,
            "grid_area": null,
            "grid_template_columns": null,
            "flex": null,
            "_model_name": "LayoutModel",
            "justify_items": null,
            "grid_row": null,
            "max_height": null,
            "align_content": null,
            "visibility": null,
            "align_self": null,
            "height": null,
            "min_height": null,
            "padding": null,
            "grid_auto_rows": null,
            "grid_gap": null,
            "max_width": null,
            "order": null,
            "_view_module_version": "1.2.0",
            "grid_template_areas": null,
            "object_position": null,
            "object_fit": null,
            "grid_auto_columns": null,
            "margin": null,
            "display": null,
            "left": null
          }
        },
        "ea86c671e59047d2abd162fe3ea5248c": {
          "model_module": "@jupyter-widgets/controls",
          "model_name": "HBoxModel",
          "model_module_version": "1.5.0",
          "state": {
            "_view_name": "HBoxView",
            "_dom_classes": [],
            "_model_name": "HBoxModel",
            "_view_module": "@jupyter-widgets/controls",
            "_model_module_version": "1.5.0",
            "_view_count": null,
            "_view_module_version": "1.5.0",
            "box_style": "",
            "layout": "IPY_MODEL_ec2233d2fdce45fb84840340ccee49c0",
            "_model_module": "@jupyter-widgets/controls",
            "children": [
              "IPY_MODEL_e9b6c960fae446e0b7a1f3ccab7be355",
              "IPY_MODEL_3122beec5d76495683c435ec1cfadba2",
              "IPY_MODEL_708d998e89be473880d3d369925dd4e9"
            ]
          }
        },
        "ec2233d2fdce45fb84840340ccee49c0": {
          "model_module": "@jupyter-widgets/base",
          "model_name": "LayoutModel",
          "model_module_version": "1.2.0",
          "state": {
            "_view_name": "LayoutView",
            "grid_template_rows": null,
            "right": null,
            "justify_content": null,
            "_view_module": "@jupyter-widgets/base",
            "overflow": null,
            "_model_module_version": "1.2.0",
            "_view_count": null,
            "flex_flow": null,
            "width": null,
            "min_width": null,
            "border": null,
            "align_items": null,
            "bottom": null,
            "_model_module": "@jupyter-widgets/base",
            "top": null,
            "grid_column": null,
            "overflow_y": null,
            "overflow_x": null,
            "grid_auto_flow": null,
            "grid_area": null,
            "grid_template_columns": null,
            "flex": null,
            "_model_name": "LayoutModel",
            "justify_items": null,
            "grid_row": null,
            "max_height": null,
            "align_content": null,
            "visibility": null,
            "align_self": null,
            "height": null,
            "min_height": null,
            "padding": null,
            "grid_auto_rows": null,
            "grid_gap": null,
            "max_width": null,
            "order": null,
            "_view_module_version": "1.2.0",
            "grid_template_areas": null,
            "object_position": null,
            "object_fit": null,
            "grid_auto_columns": null,
            "margin": null,
            "display": null,
            "left": null
          }
        },
        "e9b6c960fae446e0b7a1f3ccab7be355": {
          "model_module": "@jupyter-widgets/controls",
          "model_name": "HTMLModel",
          "model_module_version": "1.5.0",
          "state": {
            "_view_name": "HTMLView",
            "style": "IPY_MODEL_ffb17dc149864aa9957f7b416efa947b",
            "_dom_classes": [],
            "description": "",
            "_model_name": "HTMLModel",
            "placeholder": "​",
            "_view_module": "@jupyter-widgets/controls",
            "_model_module_version": "1.5.0",
            "value": "Dl Size...: 100%",
            "_view_count": null,
            "_view_module_version": "1.5.0",
            "description_tooltip": null,
            "_model_module": "@jupyter-widgets/controls",
            "layout": "IPY_MODEL_2d22351a9f9c4e22b1adfbd55b4e1c24"
          }
        },
        "3122beec5d76495683c435ec1cfadba2": {
          "model_module": "@jupyter-widgets/controls",
          "model_name": "FloatProgressModel",
          "model_module_version": "1.5.0",
          "state": {
            "_view_name": "ProgressView",
            "style": "IPY_MODEL_628ebdd57db246a39194aa87b8806f41",
            "_dom_classes": [],
            "description": "",
            "_model_name": "FloatProgressModel",
            "bar_style": "success",
            "max": 1,
            "_view_module": "@jupyter-widgets/controls",
            "_model_module_version": "1.5.0",
            "value": 1,
            "_view_count": null,
            "_view_module_version": "1.5.0",
            "orientation": "horizontal",
            "min": 0,
            "description_tooltip": null,
            "_model_module": "@jupyter-widgets/controls",
            "layout": "IPY_MODEL_d4cceb95a43646488e3367d750fff633"
          }
        },
        "708d998e89be473880d3d369925dd4e9": {
          "model_module": "@jupyter-widgets/controls",
          "model_name": "HTMLModel",
          "model_module_version": "1.5.0",
          "state": {
            "_view_name": "HTMLView",
            "style": "IPY_MODEL_5d1d0120be5b4632be6efe8322898f88",
            "_dom_classes": [],
            "description": "",
            "_model_name": "HTMLModel",
            "placeholder": "​",
            "_view_module": "@jupyter-widgets/controls",
            "_model_module_version": "1.5.0",
            "value": " 29/29 [00:01&lt;00:00, 42.86 MiB/s]",
            "_view_count": null,
            "_view_module_version": "1.5.0",
            "description_tooltip": null,
            "_model_module": "@jupyter-widgets/controls",
            "layout": "IPY_MODEL_08f4e45884b340d8a1e3771198f6dd34"
          }
        },
        "ffb17dc149864aa9957f7b416efa947b": {
          "model_module": "@jupyter-widgets/controls",
          "model_name": "DescriptionStyleModel",
          "model_module_version": "1.5.0",
          "state": {
            "_view_name": "StyleView",
            "_model_name": "DescriptionStyleModel",
            "description_width": "",
            "_view_module": "@jupyter-widgets/base",
            "_model_module_version": "1.5.0",
            "_view_count": null,
            "_view_module_version": "1.2.0",
            "_model_module": "@jupyter-widgets/controls"
          }
        },
        "2d22351a9f9c4e22b1adfbd55b4e1c24": {
          "model_module": "@jupyter-widgets/base",
          "model_name": "LayoutModel",
          "model_module_version": "1.2.0",
          "state": {
            "_view_name": "LayoutView",
            "grid_template_rows": null,
            "right": null,
            "justify_content": null,
            "_view_module": "@jupyter-widgets/base",
            "overflow": null,
            "_model_module_version": "1.2.0",
            "_view_count": null,
            "flex_flow": null,
            "width": null,
            "min_width": null,
            "border": null,
            "align_items": null,
            "bottom": null,
            "_model_module": "@jupyter-widgets/base",
            "top": null,
            "grid_column": null,
            "overflow_y": null,
            "overflow_x": null,
            "grid_auto_flow": null,
            "grid_area": null,
            "grid_template_columns": null,
            "flex": null,
            "_model_name": "LayoutModel",
            "justify_items": null,
            "grid_row": null,
            "max_height": null,
            "align_content": null,
            "visibility": null,
            "align_self": null,
            "height": null,
            "min_height": null,
            "padding": null,
            "grid_auto_rows": null,
            "grid_gap": null,
            "max_width": null,
            "order": null,
            "_view_module_version": "1.2.0",
            "grid_template_areas": null,
            "object_position": null,
            "object_fit": null,
            "grid_auto_columns": null,
            "margin": null,
            "display": null,
            "left": null
          }
        },
        "628ebdd57db246a39194aa87b8806f41": {
          "model_module": "@jupyter-widgets/controls",
          "model_name": "ProgressStyleModel",
          "model_module_version": "1.5.0",
          "state": {
            "_view_name": "StyleView",
            "_model_name": "ProgressStyleModel",
            "description_width": "",
            "_view_module": "@jupyter-widgets/base",
            "_model_module_version": "1.5.0",
            "_view_count": null,
            "_view_module_version": "1.2.0",
            "bar_color": null,
            "_model_module": "@jupyter-widgets/controls"
          }
        },
        "d4cceb95a43646488e3367d750fff633": {
          "model_module": "@jupyter-widgets/base",
          "model_name": "LayoutModel",
          "model_module_version": "1.2.0",
          "state": {
            "_view_name": "LayoutView",
            "grid_template_rows": null,
            "right": null,
            "justify_content": null,
            "_view_module": "@jupyter-widgets/base",
            "overflow": null,
            "_model_module_version": "1.2.0",
            "_view_count": null,
            "flex_flow": null,
            "width": "20px",
            "min_width": null,
            "border": null,
            "align_items": null,
            "bottom": null,
            "_model_module": "@jupyter-widgets/base",
            "top": null,
            "grid_column": null,
            "overflow_y": null,
            "overflow_x": null,
            "grid_auto_flow": null,
            "grid_area": null,
            "grid_template_columns": null,
            "flex": null,
            "_model_name": "LayoutModel",
            "justify_items": null,
            "grid_row": null,
            "max_height": null,
            "align_content": null,
            "visibility": null,
            "align_self": null,
            "height": null,
            "min_height": null,
            "padding": null,
            "grid_auto_rows": null,
            "grid_gap": null,
            "max_width": null,
            "order": null,
            "_view_module_version": "1.2.0",
            "grid_template_areas": null,
            "object_position": null,
            "object_fit": null,
            "grid_auto_columns": null,
            "margin": null,
            "display": null,
            "left": null
          }
        },
        "5d1d0120be5b4632be6efe8322898f88": {
          "model_module": "@jupyter-widgets/controls",
          "model_name": "DescriptionStyleModel",
          "model_module_version": "1.5.0",
          "state": {
            "_view_name": "StyleView",
            "_model_name": "DescriptionStyleModel",
            "description_width": "",
            "_view_module": "@jupyter-widgets/base",
            "_model_module_version": "1.5.0",
            "_view_count": null,
            "_view_module_version": "1.2.0",
            "_model_module": "@jupyter-widgets/controls"
          }
        },
        "08f4e45884b340d8a1e3771198f6dd34": {
          "model_module": "@jupyter-widgets/base",
          "model_name": "LayoutModel",
          "model_module_version": "1.2.0",
          "state": {
            "_view_name": "LayoutView",
            "grid_template_rows": null,
            "right": null,
            "justify_content": null,
            "_view_module": "@jupyter-widgets/base",
            "overflow": null,
            "_model_module_version": "1.2.0",
            "_view_count": null,
            "flex_flow": null,
            "width": null,
            "min_width": null,
            "border": null,
            "align_items": null,
            "bottom": null,
            "_model_module": "@jupyter-widgets/base",
            "top": null,
            "grid_column": null,
            "overflow_y": null,
            "overflow_x": null,
            "grid_auto_flow": null,
            "grid_area": null,
            "grid_template_columns": null,
            "flex": null,
            "_model_name": "LayoutModel",
            "justify_items": null,
            "grid_row": null,
            "max_height": null,
            "align_content": null,
            "visibility": null,
            "align_self": null,
            "height": null,
            "min_height": null,
            "padding": null,
            "grid_auto_rows": null,
            "grid_gap": null,
            "max_width": null,
            "order": null,
            "_view_module_version": "1.2.0",
            "grid_template_areas": null,
            "object_position": null,
            "object_fit": null,
            "grid_auto_columns": null,
            "margin": null,
            "display": null,
            "left": null
          }
        },
        "5799b1a55be44536aedd9234e3c868f7": {
          "model_module": "@jupyter-widgets/controls",
          "model_name": "HBoxModel",
          "model_module_version": "1.5.0",
          "state": {
            "_view_name": "HBoxView",
            "_dom_classes": [],
            "_model_name": "HBoxModel",
            "_view_module": "@jupyter-widgets/controls",
            "_model_module_version": "1.5.0",
            "_view_count": null,
            "_view_module_version": "1.5.0",
            "box_style": "",
            "layout": "IPY_MODEL_b5dcf30a84044ae782d26884d7ea6fa5",
            "_model_module": "@jupyter-widgets/controls",
            "children": [
              "IPY_MODEL_ad12085e06cf46b8a05d2ddd76fd89d7",
              "IPY_MODEL_aea3ed0594bd4ce0b0ac911d4e6429ee",
              "IPY_MODEL_3b7082ec9638447badd18c2a463081b6"
            ]
          }
        },
        "b5dcf30a84044ae782d26884d7ea6fa5": {
          "model_module": "@jupyter-widgets/base",
          "model_name": "LayoutModel",
          "model_module_version": "1.2.0",
          "state": {
            "_view_name": "LayoutView",
            "grid_template_rows": null,
            "right": null,
            "justify_content": null,
            "_view_module": "@jupyter-widgets/base",
            "overflow": null,
            "_model_module_version": "1.2.0",
            "_view_count": null,
            "flex_flow": null,
            "width": null,
            "min_width": null,
            "border": null,
            "align_items": null,
            "bottom": null,
            "_model_module": "@jupyter-widgets/base",
            "top": null,
            "grid_column": null,
            "overflow_y": null,
            "overflow_x": null,
            "grid_auto_flow": null,
            "grid_area": null,
            "grid_template_columns": null,
            "flex": null,
            "_model_name": "LayoutModel",
            "justify_items": null,
            "grid_row": null,
            "max_height": null,
            "align_content": null,
            "visibility": null,
            "align_self": null,
            "height": null,
            "min_height": null,
            "padding": null,
            "grid_auto_rows": null,
            "grid_gap": null,
            "max_width": null,
            "order": null,
            "_view_module_version": "1.2.0",
            "grid_template_areas": null,
            "object_position": null,
            "object_fit": null,
            "grid_auto_columns": null,
            "margin": null,
            "display": null,
            "left": null
          }
        },
        "ad12085e06cf46b8a05d2ddd76fd89d7": {
          "model_module": "@jupyter-widgets/controls",
          "model_name": "HTMLModel",
          "model_module_version": "1.5.0",
          "state": {
            "_view_name": "HTMLView",
            "style": "IPY_MODEL_54e1fe68f94d4f4fb17c964eed01b4ca",
            "_dom_classes": [],
            "description": "",
            "_model_name": "HTMLModel",
            "placeholder": "​",
            "_view_module": "@jupyter-widgets/controls",
            "_model_module_version": "1.5.0",
            "value": "Extraction completed...: 100%",
            "_view_count": null,
            "_view_module_version": "1.5.0",
            "description_tooltip": null,
            "_model_module": "@jupyter-widgets/controls",
            "layout": "IPY_MODEL_f81b3cba969c46d79ef25929d39e9320"
          }
        },
        "aea3ed0594bd4ce0b0ac911d4e6429ee": {
          "model_module": "@jupyter-widgets/controls",
          "model_name": "FloatProgressModel",
          "model_module_version": "1.5.0",
          "state": {
            "_view_name": "ProgressView",
            "style": "IPY_MODEL_48a34adee8a14e29beeda0d57eef8a8c",
            "_dom_classes": [],
            "description": "",
            "_model_name": "FloatProgressModel",
            "bar_style": "success",
            "max": 1,
            "_view_module": "@jupyter-widgets/controls",
            "_model_module_version": "1.5.0",
            "value": 1,
            "_view_count": null,
            "_view_module_version": "1.5.0",
            "orientation": "horizontal",
            "min": 0,
            "description_tooltip": null,
            "_model_module": "@jupyter-widgets/controls",
            "layout": "IPY_MODEL_16a90ee168bf412eaecb8ff3ec760dda"
          }
        },
        "3b7082ec9638447badd18c2a463081b6": {
          "model_module": "@jupyter-widgets/controls",
          "model_name": "HTMLModel",
          "model_module_version": "1.5.0",
          "state": {
            "_view_name": "HTMLView",
            "style": "IPY_MODEL_1ecc8f603ba541ba8fe6f965c2f9c7d6",
            "_dom_classes": [],
            "description": "",
            "_model_name": "HTMLModel",
            "placeholder": "​",
            "_view_module": "@jupyter-widgets/controls",
            "_model_module_version": "1.5.0",
            "value": " 4/4 [00:01&lt;00:00,  2.97 file/s]",
            "_view_count": null,
            "_view_module_version": "1.5.0",
            "description_tooltip": null,
            "_model_module": "@jupyter-widgets/controls",
            "layout": "IPY_MODEL_0d9feab73cc94a4a9bda35677681e4e4"
          }
        },
        "54e1fe68f94d4f4fb17c964eed01b4ca": {
          "model_module": "@jupyter-widgets/controls",
          "model_name": "DescriptionStyleModel",
          "model_module_version": "1.5.0",
          "state": {
            "_view_name": "StyleView",
            "_model_name": "DescriptionStyleModel",
            "description_width": "",
            "_view_module": "@jupyter-widgets/base",
            "_model_module_version": "1.5.0",
            "_view_count": null,
            "_view_module_version": "1.2.0",
            "_model_module": "@jupyter-widgets/controls"
          }
        },
        "f81b3cba969c46d79ef25929d39e9320": {
          "model_module": "@jupyter-widgets/base",
          "model_name": "LayoutModel",
          "model_module_version": "1.2.0",
          "state": {
            "_view_name": "LayoutView",
            "grid_template_rows": null,
            "right": null,
            "justify_content": null,
            "_view_module": "@jupyter-widgets/base",
            "overflow": null,
            "_model_module_version": "1.2.0",
            "_view_count": null,
            "flex_flow": null,
            "width": null,
            "min_width": null,
            "border": null,
            "align_items": null,
            "bottom": null,
            "_model_module": "@jupyter-widgets/base",
            "top": null,
            "grid_column": null,
            "overflow_y": null,
            "overflow_x": null,
            "grid_auto_flow": null,
            "grid_area": null,
            "grid_template_columns": null,
            "flex": null,
            "_model_name": "LayoutModel",
            "justify_items": null,
            "grid_row": null,
            "max_height": null,
            "align_content": null,
            "visibility": null,
            "align_self": null,
            "height": null,
            "min_height": null,
            "padding": null,
            "grid_auto_rows": null,
            "grid_gap": null,
            "max_width": null,
            "order": null,
            "_view_module_version": "1.2.0",
            "grid_template_areas": null,
            "object_position": null,
            "object_fit": null,
            "grid_auto_columns": null,
            "margin": null,
            "display": null,
            "left": null
          }
        },
        "48a34adee8a14e29beeda0d57eef8a8c": {
          "model_module": "@jupyter-widgets/controls",
          "model_name": "ProgressStyleModel",
          "model_module_version": "1.5.0",
          "state": {
            "_view_name": "StyleView",
            "_model_name": "ProgressStyleModel",
            "description_width": "",
            "_view_module": "@jupyter-widgets/base",
            "_model_module_version": "1.5.0",
            "_view_count": null,
            "_view_module_version": "1.2.0",
            "bar_color": null,
            "_model_module": "@jupyter-widgets/controls"
          }
        },
        "16a90ee168bf412eaecb8ff3ec760dda": {
          "model_module": "@jupyter-widgets/base",
          "model_name": "LayoutModel",
          "model_module_version": "1.2.0",
          "state": {
            "_view_name": "LayoutView",
            "grid_template_rows": null,
            "right": null,
            "justify_content": null,
            "_view_module": "@jupyter-widgets/base",
            "overflow": null,
            "_model_module_version": "1.2.0",
            "_view_count": null,
            "flex_flow": null,
            "width": "20px",
            "min_width": null,
            "border": null,
            "align_items": null,
            "bottom": null,
            "_model_module": "@jupyter-widgets/base",
            "top": null,
            "grid_column": null,
            "overflow_y": null,
            "overflow_x": null,
            "grid_auto_flow": null,
            "grid_area": null,
            "grid_template_columns": null,
            "flex": null,
            "_model_name": "LayoutModel",
            "justify_items": null,
            "grid_row": null,
            "max_height": null,
            "align_content": null,
            "visibility": null,
            "align_self": null,
            "height": null,
            "min_height": null,
            "padding": null,
            "grid_auto_rows": null,
            "grid_gap": null,
            "max_width": null,
            "order": null,
            "_view_module_version": "1.2.0",
            "grid_template_areas": null,
            "object_position": null,
            "object_fit": null,
            "grid_auto_columns": null,
            "margin": null,
            "display": null,
            "left": null
          }
        },
        "1ecc8f603ba541ba8fe6f965c2f9c7d6": {
          "model_module": "@jupyter-widgets/controls",
          "model_name": "DescriptionStyleModel",
          "model_module_version": "1.5.0",
          "state": {
            "_view_name": "StyleView",
            "_model_name": "DescriptionStyleModel",
            "description_width": "",
            "_view_module": "@jupyter-widgets/base",
            "_model_module_version": "1.5.0",
            "_view_count": null,
            "_view_module_version": "1.2.0",
            "_model_module": "@jupyter-widgets/controls"
          }
        },
        "0d9feab73cc94a4a9bda35677681e4e4": {
          "model_module": "@jupyter-widgets/base",
          "model_name": "LayoutModel",
          "model_module_version": "1.2.0",
          "state": {
            "_view_name": "LayoutView",
            "grid_template_rows": null,
            "right": null,
            "justify_content": null,
            "_view_module": "@jupyter-widgets/base",
            "overflow": null,
            "_model_module_version": "1.2.0",
            "_view_count": null,
            "flex_flow": null,
            "width": null,
            "min_width": null,
            "border": null,
            "align_items": null,
            "bottom": null,
            "_model_module": "@jupyter-widgets/base",
            "top": null,
            "grid_column": null,
            "overflow_y": null,
            "overflow_x": null,
            "grid_auto_flow": null,
            "grid_area": null,
            "grid_template_columns": null,
            "flex": null,
            "_model_name": "LayoutModel",
            "justify_items": null,
            "grid_row": null,
            "max_height": null,
            "align_content": null,
            "visibility": null,
            "align_self": null,
            "height": null,
            "min_height": null,
            "padding": null,
            "grid_auto_rows": null,
            "grid_gap": null,
            "max_width": null,
            "order": null,
            "_view_module_version": "1.2.0",
            "grid_template_areas": null,
            "object_position": null,
            "object_fit": null,
            "grid_auto_columns": null,
            "margin": null,
            "display": null,
            "left": null
          }
        }
      }
    }
  },
  "cells": [
    {
      "cell_type": "markdown",
      "metadata": {
        "id": "view-in-github",
        "colab_type": "text"
      },
      "source": [
        "<a href=\"https://colab.research.google.com/github/Ander2on/Mis-Proyectos/blob/main/IA_Tienda_Ropa.ipynb\" target=\"_parent\"><img src=\"https://colab.research.google.com/assets/colab-badge.svg\" alt=\"Open In Colab\"/></a>"
      ]
    },
    {
      "cell_type": "markdown",
      "metadata": {
        "id": "v4pQQGMXQ8d4"
      },
      "source": [
        "Semana 11 Entrenamiento de una IA para el reconocimiento de artículos"
      ]
    },
    {
      "cell_type": "code",
      "metadata": {
        "id": "2kaUTETsQg-K"
      },
      "source": [
        "#Importar librerias\n",
        "import tensorflow as tf\n",
        "import matplotlib.pyplot as plt\n",
        "import numpy as np\n",
        "import math\n",
        "import tensorflow_datasets as tfds\n",
        "import cv2"
      ],
      "execution_count": 1,
      "outputs": []
    },
    {
      "cell_type": "code",
      "metadata": {
        "colab": {
          "base_uri": "https://localhost:8080/",
          "height": 571,
          "referenced_widgets": [
            "3da3152112564929a5101e70556355d7",
            "e630bdc980064682817f51e1a497a8da",
            "7b26ae23d993425897fae2f23c7c1bba",
            "44a2570a1d794b119db1a0d373338eaf",
            "d0d0118e65194bb190100369ace3707b",
            "3f6315a2aaa74add83f7e5682f0de73d",
            "f841ea121681498a82e5be1ad72391aa",
            "8a5b9b3ccb0846d8a6443cdeecfc5742",
            "135fa59442a944fd99ad9fed137cbd4d",
            "d9eb6c9e41774ff39ea1de08b0dbcf22",
            "1b9ede33a8bd489bb57d2089d666ce03",
            "ea86c671e59047d2abd162fe3ea5248c",
            "ec2233d2fdce45fb84840340ccee49c0",
            "e9b6c960fae446e0b7a1f3ccab7be355",
            "3122beec5d76495683c435ec1cfadba2",
            "708d998e89be473880d3d369925dd4e9",
            "ffb17dc149864aa9957f7b416efa947b",
            "2d22351a9f9c4e22b1adfbd55b4e1c24",
            "628ebdd57db246a39194aa87b8806f41",
            "d4cceb95a43646488e3367d750fff633",
            "5d1d0120be5b4632be6efe8322898f88",
            "08f4e45884b340d8a1e3771198f6dd34",
            "5799b1a55be44536aedd9234e3c868f7",
            "b5dcf30a84044ae782d26884d7ea6fa5",
            "ad12085e06cf46b8a05d2ddd76fd89d7",
            "aea3ed0594bd4ce0b0ac911d4e6429ee",
            "3b7082ec9638447badd18c2a463081b6",
            "54e1fe68f94d4f4fb17c964eed01b4ca",
            "f81b3cba969c46d79ef25929d39e9320",
            "48a34adee8a14e29beeda0d57eef8a8c",
            "16a90ee168bf412eaecb8ff3ec760dda",
            "1ecc8f603ba541ba8fe6f965c2f9c7d6",
            "0d9feab73cc94a4a9bda35677681e4e4"
          ]
        },
        "id": "l7FI6oPFRMxS",
        "outputId": "adc96ec8-42ef-4f27-e302-74afb03e50b5"
      },
      "source": [
        "#Cargamos el dataset de imagenes para entrenamiento y prueba\n",
        "dataset, metadata = tfds.load(\"fashion_mnist\", as_supervised=True, with_info=True)\n",
        "datos_entrenamiento, datos_prueba = dataset[\"train\"], dataset[\"test\"]\n",
        "\n",
        "articulos = [\"Ankle boot\", \"Bag\", \"Coat\", \"Dress\", \"Pullover\", \"Sandal\", \"Shirt\", \"Sneaker\", \"T-shirt/top\", \"Trouser\"]\n",
        "\n",
        "#Pasamos en variables los datos de prueba y entrenamiento\n",
        "numeros_ejemplo_entrenamiento = metadata.splits[\"train\"].num_examples\n",
        "numeros_ejemplo_prueba = metadata.splits[\"test\"].num_examples\n",
        "print( numeros_ejemplo_entrenamiento, numeros_ejemplo_prueba )\n",
        "\n",
        "#Pasamos los numeros (píxeles) de 0 - 255 a 0 - 1\n",
        "def normalizacion(images, labels):\n",
        "  images = tf.cast(images, tf.float32)\n",
        "  images /= 255\n",
        "  return images, labels\n",
        "\n",
        "#Llamamos nuestra imagen normalizadora para convertir los numeros de 0 - 255 a 0 - 1\n",
        "datos_entrenamiento = datos_entrenamiento.map(normalizacion)\n",
        "datos_prueba = datos_prueba.map(normalizacion)\n",
        "\n",
        "#Estructura de a red neuronal\n",
        "modelo = tf.keras.Sequential([\n",
        "  tf.keras.layers.Flatten(input_shape=(28,28,1)), #28*28 = 784 neuronas una para cada pixel\n",
        "  tf.keras.layers.Dense(64, activation=tf.nn.relu),\n",
        "  tf.keras.layers.Dense(64, activation=tf.nn.relu),\n",
        "  tf.keras.layers.Dense(10, activation=tf.nn.softmax) #10 neuronas una para cada numero\n",
        "])\n",
        "\n",
        "#Compilamos nuestro modelo\n",
        "modelo.compile(optimizer=\"adam\", loss=\"sparse_categorical_crossentropy\", metrics=[\"accuracy\"])\n",
        "\n",
        "#Realizamos entrenamiento por lote\n",
        "batchsize = 32\n",
        "#ordenado de forma aleatoria\n",
        "datos_entrenamiento = datos_entrenamiento.repeat().shuffle(numeros_ejemplo_entrenamiento).batch(batchsize) \n",
        "datos_prueba = datos_prueba.batch(batchsize)\n",
        "\n",
        "#Entrenamos la red neuronal con los datos de entrenamiento\n",
        "modelo.fit(datos_entrenamiento, epochs=6,steps_per_epoch=math.ceil(numeros_ejemplo_entrenamiento/batchsize))\n",
        "\n",
        "#Evaluar el modelo de los datos de prueba \n",
        "test_loss, test_accuracy = modelo.evaluate(datos_prueba, steps=math.ceil(numeros_ejemplo_prueba/batchsize))\n",
        "print(test_loss*100, test_accuracy*100)\n",
        "\n",
        "#Graficar la salida para evaluar el aprendizaje.\n",
        "def graficar_images(i, predictions_array, true_labels, images):\n",
        "  predictions_array, true_labels, img = predictions_array[i], true_labels[i], images[i]\n",
        "  plt.grid(False)\n",
        "  plt.xticks([])\n",
        "  plt.yticks([])\n",
        "  plt.imshow(img[...,0], cmap=plt.cm.binary)\n",
        "\n",
        "  predicted_label = np.argmax(predictions_array)\n",
        "  if predicted_label==true_labels:\n",
        "    color = \"blue\"\n",
        "  else:\n",
        "    color = \"red\"\n",
        "  plt.xlabel(\"Prediccion: {}\".format(articulos[predicted_label]), color=color)\n",
        "\n",
        "#Convertir las imanes de tensores en matrices con numpy\n",
        "for imagenes_prueba, etiquetas_prueba in datos_prueba.take(1):\n",
        "  imagenes_prueba = imagenes_prueba.numpy()\n",
        "  etiquetas_prueba = etiquetas_prueba.numpy()\n",
        "  predicciones = modelo.predict(imagenes_prueba)\n",
        "\n",
        "\n",
        "#Graficamos las matrices con matplotlib para ver su acierto\n",
        "def graficar_valores_matrices(i, predictions_array, true_labels):\n",
        "  predictions_array, true_labels = predictions_array[i], true_labels[i]\n",
        "  plt.grid(False)\n",
        "  plt.xticks([])\n",
        "  plt.yticks([])\n",
        "  thisplot = plt.bar(range(10),predictions_array, color=\"#000000\")\n",
        "  plt.ylim([0,1])\n",
        "  predicted_label = np.argmax(predictions_array)\n",
        "\n",
        "  thisplot[predicted_label].set_color(\"red\")\n",
        "  thisplot[true_labels].set_color(\"Blue\")"
      ],
      "execution_count": 2,
      "outputs": [
        {
          "output_type": "stream",
          "name": "stdout",
          "text": [
            "\u001b[1mDownloading and preparing dataset fashion_mnist/3.0.1 (download: 29.45 MiB, generated: 36.42 MiB, total: 65.87 MiB) to /root/tensorflow_datasets/fashion_mnist/3.0.1...\u001b[0m\n"
          ]
        },
        {
          "output_type": "display_data",
          "data": {
            "application/vnd.jupyter.widget-view+json": {
              "model_id": "3da3152112564929a5101e70556355d7",
              "version_minor": 0,
              "version_major": 2
            },
            "text/plain": [
              "Dl Completed...: 0 url [00:00, ? url/s]"
            ]
          },
          "metadata": {}
        },
        {
          "output_type": "display_data",
          "data": {
            "application/vnd.jupyter.widget-view+json": {
              "model_id": "ea86c671e59047d2abd162fe3ea5248c",
              "version_minor": 0,
              "version_major": 2
            },
            "text/plain": [
              "Dl Size...: 0 MiB [00:00, ? MiB/s]"
            ]
          },
          "metadata": {}
        },
        {
          "output_type": "display_data",
          "data": {
            "application/vnd.jupyter.widget-view+json": {
              "model_id": "5799b1a55be44536aedd9234e3c868f7",
              "version_minor": 0,
              "version_major": 2
            },
            "text/plain": [
              "Extraction completed...: 0 file [00:00, ? file/s]"
            ]
          },
          "metadata": {}
        },
        {
          "output_type": "stream",
          "name": "stdout",
          "text": [
            "\n",
            "\n",
            "\n"
          ]
        },
        {
          "output_type": "display_data",
          "data": {
            "application/vnd.jupyter.widget-view+json": {
              "model_id": "245fd6322a3742a8b15395223fba67f0",
              "version_minor": 0,
              "version_major": 2
            },
            "text/plain": [
              "0 examples [00:00, ? examples/s]"
            ]
          },
          "metadata": {}
        },
        {
          "output_type": "stream",
          "name": "stdout",
          "text": [
            "Shuffling and writing examples to /root/tensorflow_datasets/fashion_mnist/3.0.1.incompleteXUOM9V/fashion_mnist-train.tfrecord\n"
          ]
        },
        {
          "output_type": "display_data",
          "data": {
            "application/vnd.jupyter.widget-view+json": {
              "model_id": "f9470d819e7c4ce6b76d544ebc79324e",
              "version_minor": 0,
              "version_major": 2
            },
            "text/plain": [
              "  0%|          | 0/60000 [00:00<?, ? examples/s]"
            ]
          },
          "metadata": {}
        },
        {
          "output_type": "display_data",
          "data": {
            "application/vnd.jupyter.widget-view+json": {
              "model_id": "98cd2cdad9854dd089454cca509460a3",
              "version_minor": 0,
              "version_major": 2
            },
            "text/plain": [
              "0 examples [00:00, ? examples/s]"
            ]
          },
          "metadata": {}
        },
        {
          "output_type": "stream",
          "name": "stdout",
          "text": [
            "Shuffling and writing examples to /root/tensorflow_datasets/fashion_mnist/3.0.1.incompleteXUOM9V/fashion_mnist-test.tfrecord\n"
          ]
        },
        {
          "output_type": "display_data",
          "data": {
            "application/vnd.jupyter.widget-view+json": {
              "model_id": "62d1fb4d10f941d48009a7a89980076c",
              "version_minor": 0,
              "version_major": 2
            },
            "text/plain": [
              "  0%|          | 0/10000 [00:00<?, ? examples/s]"
            ]
          },
          "metadata": {}
        },
        {
          "output_type": "stream",
          "name": "stdout",
          "text": [
            "\u001b[1mDataset fashion_mnist downloaded and prepared to /root/tensorflow_datasets/fashion_mnist/3.0.1. Subsequent calls will reuse this data.\u001b[0m\n",
            "60000 10000\n",
            "Epoch 1/6\n",
            "1875/1875 [==============================] - 12s 3ms/step - loss: 0.5074 - accuracy: 0.8220\n",
            "Epoch 2/6\n",
            "1875/1875 [==============================] - 6s 3ms/step - loss: 0.3780 - accuracy: 0.8631\n",
            "Epoch 3/6\n",
            "1875/1875 [==============================] - 6s 3ms/step - loss: 0.3338 - accuracy: 0.8762\n",
            "Epoch 4/6\n",
            "1875/1875 [==============================] - 6s 3ms/step - loss: 0.3205 - accuracy: 0.8822\n",
            "Epoch 5/6\n",
            "1875/1875 [==============================] - 6s 3ms/step - loss: 0.2975 - accuracy: 0.8894\n",
            "Epoch 6/6\n",
            "1875/1875 [==============================] - 6s 3ms/step - loss: 0.2838 - accuracy: 0.8931\n",
            "313/313 [==============================] - 1s 4ms/step - loss: 0.3527 - accuracy: 0.8758\n",
            "35.2682501077652 87.58000135421753\n"
          ]
        }
      ]
    },
    {
      "cell_type": "code",
      "metadata": {
        "colab": {
          "base_uri": "https://localhost:8080/",
          "height": 581
        },
        "id": "tx_glP3NRtRo",
        "outputId": "b6bb3e2e-b33d-4beb-b72d-86e66272862e"
      },
      "source": [
        "#Llamamos los metodos para la graficacion de las imagenes y la grafica de barras\n",
        "numfilas = 5\n",
        "numcols = 4\n",
        "numimages = numfilas*numcols\n",
        "\n",
        "plt.figure(figsize=(2*2*numcols, 2*numfilas))\n",
        "for i in range(numimages):\n",
        "  plt.subplot(numfilas, 2*numcols, 2*i+1)\n",
        "  graficar_images(i, predicciones, etiquetas_prueba, imagenes_prueba)\n",
        "  plt.subplot(numfilas, 2*numcols, 2*i+2)\n",
        "  graficar_valores_matrices(i, predicciones, etiquetas_prueba)\n",
        "\n",
        "plt.show()"
      ],
      "execution_count": 3,
      "outputs": [
        {
          "output_type": "display_data",
          "data": {
            "image/png": "[encoded data removed]",
            "text/plain": [
              "<Figure size 1152x720 with 40 Axes>"
            ]
          },
          "metadata": {}
        }
      ]
    },
    {
      "cell_type": "code",
      "metadata": {
        "colab": {
          "base_uri": "https://localhost:8080/",
          "height": 1000
        },
        "id": "OoBYaCpzSSue",
        "outputId": "00c6b8a2-fbe8-4290-854e-4a279239f0b3"
      },
      "source": [
        "#Hacer pruebas con las imagenes\n",
        "import cv2\n",
        "\n",
        "elec = 1\n",
        "while elec == 1:\n",
        "\n",
        "  import cv2\n",
        "  print(\"Introduzca la imagen que quiera evaluar\")\n",
        "  imagenLocal = input()\n",
        "\n",
        "  imagenLocal = cv2.imread(imagenLocal, 0)\n",
        "  imagenLocal = tf.cast(imagenLocal, tf.float32)\n",
        "  imagenLocal = imagenLocal / 255\n",
        "  imagenLocal = np.expand_dims(imagenLocal, axis=0)\n",
        "\n",
        "  print(imagenLocal.shape)\n",
        "\n",
        "  #Evaluar el modelo de los datos de prueba \n",
        "  predic = modelo.predict(imagenLocal, batch_size=1)\n",
        "  LocalTest = np.argmax(predic)\n",
        "  print(predic)\n",
        "\n",
        "  #Graficamos la imagen y la gráfica de barras\n",
        "\n",
        "  plt.figure(figsize=(16, 8))\n",
        "  plt.subplot(2, 4, 1)\n",
        "  plt.grid(False)\n",
        "  plt.xticks([])\n",
        "  plt.yticks([])\n",
        "  plt.imshow(imagenLocal[0,...], cmap=plt.cm.binary)\n",
        "  plt.xlabel(\"Prediccion: {}\".format(articulos[LocalTest]), color='black')\n",
        "\n",
        "  plt.subplot(2, 4, 2)\n",
        "  plt.grid(False)\n",
        "  plt.xticks([])\n",
        "  plt.yticks([])\n",
        "  thisplot = plt.bar(range(10), predic[0], color='#000000')\n",
        "  plt.ylim([0,1])\n",
        "  thisplot[LocalTest].set_color(\"red\")\n",
        "  thisplot[LocalTest].set_color(\"blue\")\n",
        "  plt.rcParams['font.size'] = 14\n",
        "  plt.show()\n",
        "\n",
        "  print(\"Desea introducir otra imagen?\")\n",
        "  print(\"SI.........1\")\n",
        "  print(\"NO.........2\")\n",
        "  elec = int(input())"
      ],
      "execution_count": 4,
      "outputs": [
        {
          "output_type": "stream",
          "name": "stdout",
          "text": [
            "Introduzca la imagen que quiera evaluar\n",
            "/content/zapato.jpg\n",
            "(1, 28, 28)\n",
            "[[3.0176977e-07 8.2652394e-07 1.3308751e-08 7.8375272e-08 8.5363737e-08\n",
            "  3.1613400e-03 4.9723607e-08 9.5861197e-01 1.5357379e-06 3.8223844e-02]]\n"
          ]
        },
        {
          "output_type": "display_data",
          "data": {
            "image/png": "[encoded data removed]",
            "text/plain": [
              "<Figure size 1152x576 with 2 Axes>"
            ]
          },
          "metadata": {}
        },
        {
          "output_type": "stream",
          "name": "stdout",
          "text": [
            "Desea introducir otra imagen?\n",
            "SI.........1\n",
            "NO.........2\n",
            "1\n",
            "Introduzca la imagen que quiera evaluar\n",
            "/content/vestido.jpg\n",
            "(1, 28, 28)\n",
            "[[1.9025231e-04 9.5015103e-03 6.5509165e-03 6.0079515e-01 3.6913517e-01\n",
            "  4.4169600e-08 1.0788674e-02 6.6682782e-10 3.0355721e-03 2.6800769e-06]]\n"
          ]
        },
        {
          "output_type": "display_data",
          "data": {
            "image/png": "[encoded data removed]",
            "text/plain": [
              "<Figure size 1152x576 with 2 Axes>"
            ]
          },
          "metadata": {}
        },
        {
          "output_type": "stream",
          "name": "stdout",
          "text": [
            "Desea introducir otra imagen?\n",
            "SI.........1\n",
            "NO.........2\n",
            "1\n",
            "Introduzca la imagen que quiera evaluar\n",
            "/content/sueter.jpg\n",
            "(1, 28, 28)\n",
            "[[1.53791672e-03 5.63722424e-05 1.23852946e-01 5.01303839e-05\n",
            "  8.16853166e-01 2.23560141e-06 5.68863265e-02 1.15774594e-06\n",
            "  7.56713736e-04 2.89535751e-06]]\n"
          ]
        },
        {
          "output_type": "display_data",
          "data": {
            "image/png": "[encoded data removed]",
            "text/plain": [
              "<Figure size 1152x576 with 2 Axes>"
            ]
          },
          "metadata": {}
        },
        {
          "output_type": "stream",
          "name": "stdout",
          "text": [
            "Desea introducir otra imagen?\n",
            "SI.........1\n",
            "NO.........2\n",
            "1\n",
            "Introduzca la imagen que quiera evaluar\n",
            "/content/sandalia.jpg\n",
            "(1, 28, 28)\n",
            "[[8.37735388e-06 5.02347663e-10 1.42927081e-06 6.98216027e-08\n",
            "  1.30519466e-05 9.99850392e-01 6.86011344e-06 1.02117474e-05\n",
            "  1.09626344e-04 6.64179254e-08]]\n"
          ]
        },
        {
          "output_type": "display_data",
          "data": {
            "image/png": "[encoded data removed]",
            "text/plain": [
              "<Figure size 1152x576 with 2 Axes>"
            ]
          },
          "metadata": {}
        },
        {
          "output_type": "stream",
          "name": "stdout",
          "text": [
            "Desea introducir otra imagen?\n",
            "SI.........1\n",
            "NO.........2\n",
            "1\n",
            "Introduzca la imagen que quiera evaluar\n",
            "/content/pantalon.jpg\n",
            "(1, 28, 28)\n",
            "[[9.2278300e-03 8.8273877e-01 3.4014552e-03 1.0071259e-01 6.1466120e-04\n",
            "  5.7999507e-05 1.8989497e-03 4.9496095e-05 1.2972987e-03 1.0393954e-06]]\n"
          ]
        },
        {
          "output_type": "display_data",
          "data": {
            "image/png": "[encoded data removed]",
            "text/plain": [
              "<Figure size 1152x576 with 2 Axes>"
            ]
          },
          "metadata": {}
        },
        {
          "output_type": "stream",
          "name": "stdout",
          "text": [
            "Desea introducir otra imagen?\n",
            "SI.........1\n",
            "NO.........2\n",
            "1\n",
            "Introduzca la imagen que quiera evaluar\n",
            "/content/mangalarga.jpg\n",
            "(1, 28, 28)\n",
            "[[5.9061451e-03 3.4903345e-04 3.1244535e-02 5.7080803e-03 4.5519421e-01\n",
            "  4.3926335e-05 4.9895114e-01 7.4962200e-06 2.5598337e-03 3.5600118e-05]]\n"
          ]
        },
        {
          "output_type": "display_data",
          "data": {
            "image/png": "[encoded data removed]",
            "text/plain": [
              "<Figure size 1152x576 with 2 Axes>"
            ]
          },
          "metadata": {}
        },
        {
          "output_type": "stream",
          "name": "stdout",
          "text": [
            "Desea introducir otra imagen?\n",
            "SI.........1\n",
            "NO.........2\n",
            "1\n",
            "Introduzca la imagen que quiera evaluar\n",
            "/content/camiseta top.jpg\n",
            "(1, 28, 28)\n",
            "[[0.30328912 0.026038   0.10682734 0.11896639 0.07926682 0.00198995\n",
            "  0.31173837 0.01106899 0.03502265 0.00579243]]\n"
          ]
        },
        {
          "output_type": "display_data",
          "data": {
            "image/png": "[encoded data removed]",
            "text/plain": [
              "<Figure size 1152x576 with 2 Axes>"
            ]
          },
          "metadata": {}
        },
        {
          "output_type": "stream",
          "name": "stdout",
          "text": [
            "Desea introducir otra imagen?\n",
            "SI.........1\n",
            "NO.........2\n",
            "1\n",
            "Introduzca la imagen que quiera evaluar\n",
            "/content/camisa.jpg\n",
            "(1, 28, 28)\n",
            "[[0.20569792 0.00710598 0.10850628 0.13399164 0.15585698 0.00046828\n",
            "  0.37717256 0.00057536 0.0101609  0.00046405]]\n"
          ]
        },
        {
          "output_type": "display_data",
          "data": {
            "image/png": "[encoded data removed]",
            "text/plain": [
              "<Figure size 1152x576 with 2 Axes>"
            ]
          },
          "metadata": {}
        },
        {
          "output_type": "stream",
          "name": "stdout",
          "text": [
            "Desea introducir otra imagen?\n",
            "SI.........1\n",
            "NO.........2\n",
            "1\n",
            "Introduzca la imagen que quiera evaluar\n",
            "/content/botin.jpg\n",
            "(1, 28, 28)\n",
            "[[2.7389513e-02 9.3375314e-07 8.2094697e-03 1.2386150e-05 1.3442655e-02\n",
            "  4.6530304e-06 6.7258958e-04 3.8860362e-06 9.5026398e-01 5.0211620e-11]]\n"
          ]
        },
        {
          "output_type": "display_data",
          "data": {
            "image/png": "[encoded data removed]",
            "text/plain": [
              "<Figure size 1152x576 with 2 Axes>"
            ]
          },
          "metadata": {}
        },
        {
          "output_type": "stream",
          "name": "stdout",
          "text": [
            "Desea introducir otra imagen?\n",
            "SI.........1\n",
            "NO.........2\n",
            "1\n",
            "Introduzca la imagen que quiera evaluar\n",
            "/content/bolso.jpg\n",
            "(1, 28, 28)\n",
            "[[8.5479729e-02 2.5263158e-04 1.0300960e-03 2.9573110e-03 1.3548578e-03\n",
            "  2.9599690e-03 1.0078420e-03 4.7833472e-04 9.0447599e-01 3.2554251e-06]]\n"
          ]
        },
        {
          "output_type": "display_data",
          "data": {
            "image/png": "[encoded data removed]",
            "text/plain": [
              "<Figure size 1152x576 with 2 Axes>"
            ]
          },
          "metadata": {}
        },
        {
          "name": "stdout",
          "output_type": "stream",
          "text": [
            "Desea introducir otra imagen?\n",
            "SI.........1\n",
            "NO.........2\n",
            "2\n"
          ]
        }
      ]
    }
  ]
}