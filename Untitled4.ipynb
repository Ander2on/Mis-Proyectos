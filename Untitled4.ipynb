{
  "nbformat": 4,
  "nbformat_minor": 0,
  "metadata": {
    "colab": {
      "name": "Untitled4.ipynb",
      "provenance": [],
      "collapsed_sections": [],
      "authorship_tag": "ABX9TyOz501iscuie1qwSn4TvZxS",
      "include_colab_link": true
    },
    "kernelspec": {
      "name": "python3",
      "display_name": "Python 3"
    },
    "language_info": {
      "name": "python"
    }
  },
  "cells": [
    {
      "cell_type": "markdown",
      "metadata": {
        "id": "view-in-github",
        "colab_type": "text"
      },
      "source": [
        "<a href=\"https://colab.research.google.com/github/Ander2on/Mis-Proyectos/blob/main/Untitled4.ipynb\" target=\"_parent\"><img src=\"https://colab.research.google.com/assets/colab-badge.svg\" alt=\"Open In Colab\"/></a>"
      ]
    },
    {
      "cell_type": "code",
      "metadata": {
        "id": "Xg_NMhEL2U0c"
      },
      "source": [
        "import pandas as pd\n",
        "import matplotlib.pyplot as plt\n"
      ],
      "execution_count": 2,
      "outputs": []
    },
    {
      "cell_type": "code",
      "metadata": {
        "colab": {
          "base_uri": "https://localhost:8080/"
        },
        "id": "N9NBKqey69Uy",
        "outputId": "337d46df-4161-4d2d-9b48-efac50a4884d"
      },
      "source": [
        "#1\n",
        "#Utilización de tarjetas de crédito: por sexo\n",
        "\n",
        "creditoSexo = pd.read_csv(\"/content/tarjetas_por_sexo.csv\", sep=\";\", encoding=\"utf-8\")\n",
        "print(creditoSexo)"
      ],
      "execution_count": 40,
      "outputs": [
        {
          "output_type": "stream",
          "name": "stdout",
          "text": [
            "  Gender  frecuencia\n",
            "0      F       13680\n",
            "1      M       12372\n"
          ]
        }
      ]
    },
    {
      "cell_type": "code",
      "metadata": {
        "colab": {
          "base_uri": "https://localhost:8080/"
        },
        "id": "gGURkx6u_V0R",
        "outputId": "f409af0e-341f-4635-f7f2-8124caedfa57"
      },
      "source": [
        "#2\n",
        "#Total en dólares utilizados diferenciando tarjetas de crédito por ciudad\n",
        "\n",
        "totalDlsCiudad = pd.read_csv(\"/content/total_dls_ciudad_tipo_tarjeta.csv\", sep=\";\", encoding=\"latin-1\")\n",
        "print(totalDlsCiudad)"
      ],
      "execution_count": 30,
      "outputs": [
        {
          "output_type": "stream",
          "name": "stdout",
          "text": [
            "                  City  Card Type     sum\n",
            "0      Achalpur, India       Gold  679992\n",
            "1                  NaN   Platinum  178612\n",
            "2                  NaN  Signature  547005\n",
            "3                  NaN     Silver  201032\n",
            "4      Adilabad, India       Gold   49020\n",
            "...                ...        ...     ...\n",
            "3099               NaN  Signature  218424\n",
            "3100               NaN     Silver   98224\n",
            "3101   Zirakpur, India   Platinum  549663\n",
            "3102  Zunheboto, India  Signature   89271\n",
            "3103               NaN     Silver  377158\n",
            "\n",
            "[3104 rows x 3 columns]\n"
          ]
        }
      ]
    },
    {
      "cell_type": "code",
      "metadata": {
        "colab": {
          "base_uri": "https://localhost:8080/"
        },
        "id": "XpY8ZpX8FP2B",
        "outputId": "d03ba310-04f7-4495-877a-f9229925eed6"
      },
      "source": [
        "#3\n",
        "#Total utilizado por tipo de gasto \n",
        "\n",
        "totalDlsTipo = pd.read_csv(\"/content/total_dls_tipo_gasto.csv\", sep=\";\", encoding=\"utf-8\")\n",
        "print(totalDlsTipo)\n"
      ],
      "execution_count": 22,
      "outputs": [
        {
          "output_type": "stream",
          "name": "stdout",
          "text": [
            "        Exp Type        sum\n",
            "0          Bills  907072473\n",
            "1  Entertainment  726437536\n",
            "2           Food  824724009\n",
            "3           Fuel  789135821\n",
            "4        Grocery  718207923\n",
            "5         Travel  109255611\n"
          ]
        }
      ]
    }
  ]
}